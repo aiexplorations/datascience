{
 "cells": [
  {
   "cell_type": "markdown",
   "metadata": {},
   "source": [
    "## Basic statistics in Python"
   ]
  },
  {
   "cell_type": "code",
   "execution_count": 2,
   "metadata": {
    "collapsed": true
   },
   "outputs": [],
   "source": [
    "x = [1,2,3,4,5,6,7,8,9,10]"
   ]
  },
  {
   "cell_type": "markdown",
   "metadata": {},
   "source": [
    "A sample of data represented by the list \"x\" above, can be evaluated with some key metrics: mean, median, standard deviation and variance. There are other kinds of statistics that can be used to describe the data. The term ***statistic*** is used for samples of data, while the term ***parameter*** is used for populations, which can be described by functions.\n",
    "\n",
    "### Descriptive Statistics\n",
    "\n",
    "Descriptive statistics is all about describing data sets like \"x\" above. We can do statistics inside the Jupyter notebook by writing code within cells and evaluating them. \n",
    "* Code written in cells above can be evaluated and the results can be used by cells below.\n",
    "* If a cell doesn't return a result, first check if cells above have been run already\n",
    "* The code isn't compiled until run time (Python is an interpreted language)"
   ]
  },
  {
   "cell_type": "code",
   "execution_count": 3,
   "metadata": {
    "collapsed": false
   },
   "outputs": [
    {
     "data": {
      "text/plain": [
       "5.5"
      ]
     },
     "execution_count": 3,
     "metadata": {},
     "output_type": "execute_result"
    }
   ],
   "source": [
    "import numpy as np\n",
    "\n",
    "import matplotlib.pyplot as plt\n",
    "\n",
    "np.mean(x)\n"
   ]
  },
  {
   "cell_type": "markdown",
   "metadata": {},
   "source": [
    "In the above cell, we've calculated the arithmetic mean (mean) of the sample x. This is done within Python easily by using the \"numpy\" library. When we import a library for use in Python, we can give it an alias. By convention, the following aliases are used for the following libraries (which are commonly used in Python for data analysis):\n",
    "\n",
    "* numpy - \"np\"\n",
    "* scipy - \"sp\"\n",
    "* matplotlib.pyplot - \"plt\"\n",
    "* pandas - \"pd\"\n",
    "\n",
    "Of course, you can give any alias you want but following the convention helps compare code from anywhere.\n",
    "\n",
    "Some statistics you can compute for x: mean, standard deviation, variance.\n",
    "\n",
    "Mean: $$\\bar x = \\frac{\\sum X_i}{n}$$\n",
    "\n",
    "Standard Deviation: $$s = \\sqrt{ \\frac{\\sum (X_i - \\bar X)^2}{n-1}}$$\n",
    "\n",
    "Note 1: Standard deviation is the square root of variance.\n",
    "\n",
    "Note 2: We use $n-1$ in the formula for standard deviation because of Bessel's correction. Please refer: https://en.wikipedia.org/wiki/Bessel's_correction "
   ]
  },
  {
   "cell_type": "code",
   "execution_count": 4,
   "metadata": {
    "collapsed": false
   },
   "outputs": [
    {
     "name": "stdout",
     "output_type": "stream",
     "text": [
      "Standard deviation of x:  2.87228132327\n",
      "Variance of x:  8.25\n"
     ]
    }
   ],
   "source": [
    "print \"Standard deviation of x: \", np.std(x)\n",
    "print \"Variance of x: \", np.var(x)"
   ]
  },
  {
   "cell_type": "markdown",
   "metadata": {},
   "source": [
    "We can generate data within Jupyter and analyze and visualize it. We can also pull data in from excel spreadsheets and CSV files."
   ]
  },
  {
   "cell_type": "code",
   "execution_count": 5,
   "metadata": {
    "collapsed": false
   },
   "outputs": [
    {
     "data": {
      "image/png": "[encoded data removed]",
      "text/plain": [
       "<matplotlib.figure.Figure at 0x7f2c11900f90>"
      ]
     },
     "metadata": {},
     "output_type": "display_data"
    }
   ],
   "source": [
    "x = np.random.random(100) #generating 100 points of random float data\n",
    "\n",
    "y = x**2 + 3*x + np.random.normal(0,2,100)  #calculating y as a function of x\n",
    "\n",
    "%matplotlib inline\n",
    "plt.scatter(x,y)\n",
    "plt.xlabel(\"x\")\n",
    "plt.ylabel(\"y\")\n",
    "plt.title(\"Scatterplot\")\n",
    "plt.show()"
   ]
  },
  {
   "cell_type": "markdown",
   "metadata": {},
   "source": [
    "We can now write x and y to a file. For this, the pandas library provides a very good interface (although this can also be done within Python). Pandas is a library that uses data frames as a way to organize tabular data. It comes with powerful functions to read, write and manipulate tables. "
   ]
  },
  {
   "cell_type": "code",
   "execution_count": 6,
   "metadata": {
    "collapsed": false
   },
   "outputs": [
    {
     "name": "stdout",
     "output_type": "stream",
     "text": [
      "          x         y\n",
      "0  0.387499  3.649965\n",
      "1  0.224507 -1.154344\n",
      "2  0.700269  2.956766\n",
      "3  0.960653  3.310035\n",
      "4  0.181661  0.369305\n"
     ]
    }
   ],
   "source": [
    "import pandas as pd\n",
    "\n",
    "#preparing a dataframe within pandas\n",
    "\n",
    "dframe = {\"x\":x,\"y\":y} #Dictionary with key-value pairs. Keys in this case are row headings. Values are x and y data\n",
    "\n",
    "df = pd.DataFrame(dframe) #Dataframes can be constructed within pandas by passing a dictionary of list values.\n",
    "\n",
    "print df.head() #The \"head()\" method inside data frames allows us to see the first few values in a data set\n",
    "\n",
    "df.to_csv(\"data.csv\") #Dataframes can be written to csv or other formats. Stores in working directory by default."
   ]
  },
  {
   "cell_type": "markdown",
   "metadata": {},
   "source": [
    "We've seen how data can be generated and stored in data frames. We've also seen how data can be saved to CSV files in pandas. Now we'll see how to pull data from the same file, assign the data to variables, and do column statistics. We'll also see how simple plots can be done from within Pandas itself."
   ]
  },
  {
   "cell_type": "code",
   "execution_count": 7,
   "metadata": {
    "collapsed": true
   },
   "outputs": [],
   "source": [
    "#Pulling data from a CSV file\n",
    "\n",
    "dataset = pd.read_csv(\"data.csv\", ) #Read data from data.csv in your working directory"
   ]
  },
  {
   "cell_type": "code",
   "execution_count": 8,
   "metadata": {
    "collapsed": false
   },
   "outputs": [
    {
     "data": {
      "text/html": [
       "<div>\n",
       "<table border=\"1\" class=\"dataframe\">\n",
       "  <thead>\n",
       "    <tr style=\"text-align: right;\">\n",
       "      <th></th>\n",
       "      <th>Unnamed: 0</th>\n",
       "      <th>x</th>\n",
       "      <th>y</th>\n",
       "    </tr>\n",
       "  </thead>\n",
       "  <tbody>\n",
       "    <tr>\n",
       "      <th>0</th>\n",
       "      <td>0</td>\n",
       "      <td>0.387499</td>\n",
       "      <td>3.649965</td>\n",
       "    </tr>\n",
       "    <tr>\n",
       "      <th>1</th>\n",
       "      <td>1</td>\n",
       "      <td>0.224507</td>\n",
       "      <td>-1.154344</td>\n",
       "    </tr>\n",
       "    <tr>\n",
       "      <th>2</th>\n",
       "      <td>2</td>\n",
       "      <td>0.700269</td>\n",
       "      <td>2.956766</td>\n",
       "    </tr>\n",
       "    <tr>\n",
       "      <th>3</th>\n",
       "      <td>3</td>\n",
       "      <td>0.960653</td>\n",
       "      <td>3.310035</td>\n",
       "    </tr>\n",
       "    <tr>\n",
       "      <th>4</th>\n",
       "      <td>4</td>\n",
       "      <td>0.181661</td>\n",
       "      <td>0.369305</td>\n",
       "    </tr>\n",
       "  </tbody>\n",
       "</table>\n",
       "</div>"
      ],
      "text/plain": [
       "   Unnamed: 0         x         y\n",
       "0           0  0.387499  3.649965\n",
       "1           1  0.224507 -1.154344\n",
       "2           2  0.700269  2.956766\n",
       "3           3  0.960653  3.310035\n",
       "4           4  0.181661  0.369305"
      ]
     },
     "execution_count": 8,
     "metadata": {},
     "output_type": "execute_result"
    }
   ],
   "source": [
    "dataset.head()"
   ]
  },
  {
   "cell_type": "markdown",
   "metadata": {},
   "source": [
    "Observe how the first column in \"data.csv\" has been taken in as a column with \"Unnamed: 0\" as name. This column doesn't contain any data, only indices. We can therefore delete it."
   ]
  },
  {
   "cell_type": "code",
   "execution_count": 9,
   "metadata": {
    "collapsed": false
   },
   "outputs": [],
   "source": [
    "del dataset[\"Unnamed: 0\"]"
   ]
  },
  {
   "cell_type": "code",
   "execution_count": 10,
   "metadata": {
    "collapsed": false
   },
   "outputs": [
    {
     "data": {
      "text/html": [
       "<div>\n",
       "<table border=\"1\" class=\"dataframe\">\n",
       "  <thead>\n",
       "    <tr style=\"text-align: right;\">\n",
       "      <th></th>\n",
       "      <th>x</th>\n",
       "      <th>y</th>\n",
       "    </tr>\n",
       "  </thead>\n",
       "  <tbody>\n",
       "    <tr>\n",
       "      <th>0</th>\n",
       "      <td>0.387499</td>\n",
       "      <td>3.649965</td>\n",
       "    </tr>\n",
       "    <tr>\n",
       "      <th>1</th>\n",
       "      <td>0.224507</td>\n",
       "      <td>-1.154344</td>\n",
       "    </tr>\n",
       "    <tr>\n",
       "      <th>2</th>\n",
       "      <td>0.700269</td>\n",
       "      <td>2.956766</td>\n",
       "    </tr>\n",
       "    <tr>\n",
       "      <th>3</th>\n",
       "      <td>0.960653</td>\n",
       "      <td>3.310035</td>\n",
       "    </tr>\n",
       "    <tr>\n",
       "      <th>4</th>\n",
       "      <td>0.181661</td>\n",
       "      <td>0.369305</td>\n",
       "    </tr>\n",
       "  </tbody>\n",
       "</table>\n",
       "</div>"
      ],
      "text/plain": [
       "          x         y\n",
       "0  0.387499  3.649965\n",
       "1  0.224507 -1.154344\n",
       "2  0.700269  2.956766\n",
       "3  0.960653  3.310035\n",
       "4  0.181661  0.369305"
      ]
     },
     "execution_count": 10,
     "metadata": {},
     "output_type": "execute_result"
    }
   ],
   "source": [
    "dataset.head()"
   ]
  },
  {
   "cell_type": "markdown",
   "metadata": {},
   "source": [
    "Observe how the dataset above no longer has the garbage column. This is one way in which we can remove columns of data from pandas data frames. Before removing data, it is sometimes useful to check by printing the data (if the data set is small), or summarising it.\n",
    "\n",
    "We can summarize data easily by using the describe() method within dataframes."
   ]
  },
  {
   "cell_type": "code",
   "execution_count": 11,
   "metadata": {
    "collapsed": false
   },
   "outputs": [
    {
     "data": {
      "text/html": [
       "<div>\n",
       "<table border=\"1\" class=\"dataframe\">\n",
       "  <thead>\n",
       "    <tr style=\"text-align: right;\">\n",
       "      <th></th>\n",
       "      <th>x</th>\n",
       "      <th>y</th>\n",
       "    </tr>\n",
       "  </thead>\n",
       "  <tbody>\n",
       "    <tr>\n",
       "      <th>count</th>\n",
       "      <td>100.000000</td>\n",
       "      <td>100.000000</td>\n",
       "    </tr>\n",
       "    <tr>\n",
       "      <th>mean</th>\n",
       "      <td>0.468093</td>\n",
       "      <td>1.690836</td>\n",
       "    </tr>\n",
       "    <tr>\n",
       "      <th>std</th>\n",
       "      <td>0.298079</td>\n",
       "      <td>2.381817</td>\n",
       "    </tr>\n",
       "    <tr>\n",
       "      <th>min</th>\n",
       "      <td>0.004117</td>\n",
       "      <td>-2.485406</td>\n",
       "    </tr>\n",
       "    <tr>\n",
       "      <th>25%</th>\n",
       "      <td>0.221471</td>\n",
       "      <td>0.152267</td>\n",
       "    </tr>\n",
       "    <tr>\n",
       "      <th>50%</th>\n",
       "      <td>0.422053</td>\n",
       "      <td>1.300536</td>\n",
       "    </tr>\n",
       "    <tr>\n",
       "      <th>75%</th>\n",
       "      <td>0.735260</td>\n",
       "      <td>3.181988</td>\n",
       "    </tr>\n",
       "    <tr>\n",
       "      <th>max</th>\n",
       "      <td>0.994373</td>\n",
       "      <td>10.006481</td>\n",
       "    </tr>\n",
       "  </tbody>\n",
       "</table>\n",
       "</div>"
      ],
      "text/plain": [
       "                x           y\n",
       "count  100.000000  100.000000\n",
       "mean     0.468093    1.690836\n",
       "std      0.298079    2.381817\n",
       "min      0.004117   -2.485406\n",
       "25%      0.221471    0.152267\n",
       "50%      0.422053    1.300536\n",
       "75%      0.735260    3.181988\n",
       "max      0.994373   10.006481"
      ]
     },
     "execution_count": 11,
     "metadata": {},
     "output_type": "execute_result"
    }
   ],
   "source": [
    "dataset.describe()"
   ]
  },
  {
   "cell_type": "markdown",
   "metadata": {},
   "source": [
    "Here, you can see the key sample statistics calculated for each data column - mean, standard deviation, min and max values and the interquartile ranges can all be seen.\n",
    "\n",
    "Note: A quartile consists of multiples of the 25% of the range of the data. Therefore, the 1st quartile of $x$ is the subset of all data between $min(x)$ and 25% of range. The distance between the 1st quartile and 3rd quartile is called Inter Quartile range ($IQR$). The median $\\tilde X$ is essentially the third quartile. \n",
    "\n",
    "Interquartile range: $$ Q_3 - Q_1 = IQR$$\n",
    "Median : $$ Q_2 = \\tilde X$$\n",
    "\n",
    "We can understand quartiles using box plots, which are a simple visualization tool. Pandas connects to Matplotlib to implement graphs.\n",
    "\n",
    "### Simple Plots in Python"
   ]
  },
  {
   "cell_type": "code",
   "execution_count": 12,
   "metadata": {
    "collapsed": false
   },
   "outputs": [
    {
     "data": {
      "image/png": "[encoded data removed]",
      "text/plain": [
       "<matplotlib.figure.Figure at 0x7f2c11958e10>"
      ]
     },
     "metadata": {},
     "output_type": "display_data"
    }
   ],
   "source": [
    "import matplotlib.pyplot as plt #importing matplotlib\n",
    "%matplotlib inline\n",
    "\n",
    "dataset.plot(kind = \"box\") #using built in plot function for each data frame object\n",
    "plt.show()"
   ]
  },
  {
   "cell_type": "markdown",
   "metadata": {},
   "source": [
    "Observe how the data in sets $x$ and $y$ have been represented in this boxplot. The height of the box is an indication of how spread out the data in that set is. Some things to observe about the box plot:\n",
    "\n",
    "* A shorter box indicates a smaller variance\n",
    "* The red line here indicates the median. 50% of the points in the data set fall below this line\n",
    "* The \"whiskers\" which extend outside the box are calculated as $1.5 \\times IQR$, measured from the median line.\n",
    "* Sometimes, points can lie outside the box and whiskers. These are indicated by special symbols and are called \"outliers\"\n",
    "    * Outliers can sometimes indicate an unusual (or a novel) result in a test, or in a process or system.\n",
    "    * There are sophisticated statistical tests used for detecting outliers analytically\n",
    "    * Graphically, box plots can be a powerful way to detect outliers in a univariate data set.\n",
    "\n",
    "Note: A univariate dataset is a data set where the result is dependent on only one variable. Sometimes, we can have a single result dependent on multiple inputs. In such situations, we have to consider Euclidean distance to find outliers."
   ]
  },
  {
   "cell_type": "code",
   "execution_count": 13,
   "metadata": {
    "collapsed": false
   },
   "outputs": [
    {
     "data": {
      "text/plain": [
       "array([<matplotlib.axes._subplots.AxesSubplot object at 0x7f2c0ac0b190>,\n",
       "       <matplotlib.axes._subplots.AxesSubplot object at 0x7f2c0ab6c1d0>], dtype=object)"
      ]
     },
     "execution_count": 13,
     "metadata": {},
     "output_type": "execute_result"
    },
    {
     "data": {
      "image/png": "[encoded data removed]",
      "text/plain": [
       "<matplotlib.figure.Figure at 0x7f2c0ad40110>"
      ]
     },
     "metadata": {},
     "output_type": "display_data"
    },
    {
     "data": {
      "image/png": "[encoded data removed]",
      "text/plain": [
       "<matplotlib.figure.Figure at 0x7f2c0acced50>"
      ]
     },
     "metadata": {},
     "output_type": "display_data"
    }
   ],
   "source": [
    "dataset.plot(kind = \"hist\")\n",
    "dataset.plot(kind = \"hist\", subplots=True)"
   ]
  },
  {
   "cell_type": "markdown",
   "metadata": {},
   "source": [
    "We can see three plots above, and all of them are histograms.\n",
    "* The first is a combined histogram, which shows both the $x$ column and $y$ column values as overlapping histograms.\n",
    "* The second command implemented a two-panel histgram, with one panel each for $x$ and for $y$\n",
    "\n",
    "Things to remember about histograms:\n",
    "* They tell us the approximate central tendency or shape of the data set or variable\n",
    "* The range of the histogram can give us an idea of how spread out the data is\n",
    "* We can evaluate kurtosis and skewness of data sets by studying histograms.\n",
    "\n",
    "**Kurtosis**: A data set with *higher kurtosis* has a greater concentration of values at its centre, and the distribution looks more \"peaked\". A data set is said to have *lower kurtosis* if the data is relatively flat. The standard normal distribution is taken as a standard for kurtosis with a value of 1.0.\n",
    "\n",
    "**Skewness**: A data set is said to be *right skewed* if there are extreme points on the upper side of the data set. Similarly, it is *left skewed* if it has extreme values on the lower side of the data set."
   ]
  },
  {
   "cell_type": "code",
   "execution_count": 14,
   "metadata": {
    "collapsed": false
   },
   "outputs": [
    {
     "data": {
      "text/plain": [
       "<matplotlib.axes._subplots.AxesSubplot at 0x7f2c0ad34ed0>"
      ]
     },
     "execution_count": 14,
     "metadata": {},
     "output_type": "execute_result"
    },
    {
     "data": {
      "image/png": "[encoded data removed]",
      "text/plain": [
       "<matplotlib.figure.Figure at 0x7f2c0aa48710>"
      ]
     },
     "metadata": {},
     "output_type": "display_data"
    }
   ],
   "source": [
    "dataset.plot(x = \"x\", y = \"y\", kind = \"scatter\", title = \"Scatterplot of X and y\")"
   ]
  },
  {
   "cell_type": "markdown",
   "metadata": {},
   "source": [
    "We can explore the relationship between two variables inside a data frame using the scatter plot. We can choose any two variables as \"x\" and \"y\" in the function (as shown above) and can construct a simple scatter plot of the data.\n",
    "\n",
    "### Correlation and Regression Analysis\n",
    "\n",
    "We can perform simple correlation studies and simple linear regression using Python as below.\n"
   ]
  },
  {
   "cell_type": "code",
   "execution_count": 27,
   "metadata": {
    "collapsed": false
   },
   "outputs": [
    {
     "name": "stdout",
     "output_type": "stream",
     "text": [
      "(100,) (100,)\n"
     ]
    },
    {
     "data": {
      "text/plain": [
       "<matplotlib.text.Text at 0x7f2c04149c10>"
      ]
     },
     "execution_count": 27,
     "metadata": {},
     "output_type": "execute_result"
    },
    {
     "data": {
      "image/png": "[encoded data removed]",
      "text/plain": [
       "<matplotlib.figure.Figure at 0x7f2c042b83d0>"
      ]
     },
     "metadata": {},
     "output_type": "display_data"
    }
   ],
   "source": [
    "x = dataset['x']\n",
    "y = dataset['y']\n",
    "print np.shape(x), np.shape(y)\n",
    "plt.scatter(x,y)\n",
    "plt.xlabel(\"x\")\n",
    "plt.ylabel(\"y\")\n",
    "plt.title(\"Scatterplot of y = f(x) using Matplotlib\") #This plot can be constructed in Pandas also, as seen above"
   ]
  },
  {
   "cell_type": "code",
   "execution_count": 31,
   "metadata": {
    "collapsed": false
   },
   "outputs": [
    {
     "name": "stdout",
     "output_type": "stream",
     "text": [
      " R value for x and y:  0.57335553334\n",
      " p-value for correlation hypothesis:  4.52989319059e-10\n"
     ]
    }
   ],
   "source": [
    "R, corrpval = stats.pearsonr(x,y) #Scipy has a built in function to calculate correlation coefficient. \n",
    "\n",
    "print \" R value for x and y: \", R\n",
    "print \" p-value for correlation hypothesis: \", corrpval"
   ]
  },
  {
   "cell_type": "markdown",
   "metadata": {},
   "source": [
    "Using the R value, we can understand that there is a moderate positive correlation between x and y.\n",
    "\n",
    "Typical guidelines:\n",
    "* R varying from -1 to -0.7 : Strong negative correlation\n",
    "* R varying from -0.7 to -0.3: Moderate negative correlation\n",
    "* R varying from -0.3 to +0.3: Weak correlation (positive or negative)\n",
    "* R varying from 0.3 to 0.7: Moderate positive correlation\n",
    "* R varying from 0.7 to 1.0: Strong positive correlation"
   ]
  },
  {
   "cell_type": "markdown",
   "metadata": {},
   "source": [
    "We've established that there is a moderate positive correlation in the data between variables x and y. We can use this to begin to build our regression hypothesis."
   ]
  },
  {
   "cell_type": "markdown",
   "metadata": {},
   "source": [
    "### Simple Linear Regression using Scipy's Stats module"
   ]
  },
  {
   "cell_type": "code",
   "execution_count": 32,
   "metadata": {
    "collapsed": false
   },
   "outputs": [
    {
     "name": "stdout",
     "output_type": "stream",
     "text": [
      "Slope:  4.58142533358 Intercept:  -0.453696319001 R:  0.57335553334 p-val:  4.52989319059e-10\n",
      "The equation for the line of best fit is 4.581425 x + -0.453696\n"
     ]
    }
   ],
   "source": [
    "import scipy.stats as stats #conventional import or scipy's stats module (very extensive functionality)\n",
    "\n",
    "slope, intercept, r_value, p_value, std_err = stats.linregress(x,y)\n",
    "\n",
    "print \"Slope: \", slope, \"Intercept: \", intercept, \"R: \", r_value, \"p-val: \", p_value\n",
    "\n",
    "print \"The equation for the line of best fit is %f x + %f\" %(slope, intercept)\n",
    "\n"
   ]
  },
  {
   "cell_type": "markdown",
   "metadata": {},
   "source": [
    "* The $R^2$ value for the data above is an indicator of goodness of fit. R^2 in this case is $0.573^2 = 0.328329$\n",
    "* There are methods to evaluate the goodness of fit, by using cross validation approaches. We will see these shortly.\n",
    "* In the above code, observe how a tuple was produced by the stats.linregress() function. This tuple could be directly passed by tuple assignment to the slope, intercept, r and p value variables.\n",
    "\n",
    "Note: By default, the method implemented by scipy.stats.linregress() computes OLS (Ordinary Least Squares) regression. The OLS regression is said to be the Best Linear Unbiased Estimator (BLUE), as per the Gauss-Markov theorem. https://en.wikipedia.org/wiki/Gauss%E2%80%93Markov_theorem "
   ]
  },
  {
   "cell_type": "code",
   "execution_count": 17,
   "metadata": {
    "collapsed": false
   },
   "outputs": [
    {
     "name": "stdout",
     "output_type": "stream",
     "text": [
      "2016-04-07 12:24:34.084426\n",
      "Year:  2016\n",
      "Month:  4\n",
      "Day:  7\n",
      "Hour:  12\n",
      "Minute:  24\n",
      "Second:  34\n",
      "Microsecond:  84426\n"
     ]
    }
   ],
   "source": [
    "import datetime as dt\n",
    "\n",
    "t = dt.datetime.now()\n",
    "print t\n",
    "print \"Year: \",t.year\n",
    "print \"Month: \", t.month\n",
    "print \"Day: \",t.day\n",
    "print \"Hour: \", t.hour\n",
    "print \"Minute: \", t.minute\n",
    "print \"Second: \",t.second\n",
    "print \"Microsecond: \",t.microsecond"
   ]
  },
  {
   "cell_type": "markdown",
   "metadata": {},
   "source": [
    "The \"datetime\" library in Python allows handling of the date and time. In the above example, we can see how the datetime function \"now\" is implemented."
   ]
  },
  {
   "cell_type": "code",
   "execution_count": 18,
   "metadata": {
    "collapsed": false
   },
   "outputs": [],
   "source": [
    "ts = []\n",
    "import random\n",
    "\n",
    "for x in range(100):\n",
    "    t = dt.datetime.now()\n",
    "    t = t.microsecond ##separating out and recording the microsecond at which the data was generated\n",
    "    x = random.random()\n",
    "    ts.append([t,x])\n",
    "\n",
    "tsdata = pd.DataFrame(ts, columns=[\"time\", \"data\"])\n",
    "tsdata.to_csv(\"timeseriesdata.csv\")"
   ]
  },
  {
   "cell_type": "markdown",
   "metadata": {},
   "source": [
    "Based on data generated from the time series module, we have created time stamps for some process data and stored it in a data frame. We have then extracted this to a file. We can now perform simple time series analysis on this data after importing it."
   ]
  },
  {
   "cell_type": "code",
   "execution_count": 19,
   "metadata": {
    "collapsed": false
   },
   "outputs": [
    {
     "name": "stdout",
     "output_type": "stream",
     "text": [
      "     time      data\n",
      "0  156669  0.229613\n",
      "1  156700  0.050181\n",
      "2  156705  0.191028\n",
      "3  156708  0.893278\n",
      "4  156711  0.930735\n"
     ]
    },
    {
     "data": {
      "text/plain": [
       "<matplotlib.axes._subplots.AxesSubplot at 0x7f2c04361810>"
      ]
     },
     "execution_count": 19,
     "metadata": {},
     "output_type": "execute_result"
    },
    {
     "data": {
      "image/png": "[encoded data removed]",
      "text/plain": [
       "<matplotlib.figure.Figure at 0x7f2c043557d0>"
      ]
     },
     "metadata": {},
     "output_type": "display_data"
    }
   ],
   "source": [
    "tsd = pd.read_csv(\"timeseriesdata.csv\") #Reading data from the CSV file with time series data\n",
    "\n",
    "del tsd[\"Unnamed: 0\"]\n",
    "\n",
    "print tsd.head()\n",
    "\n",
    "tsd.plot(x = \"time\", y = \"data\", kind=\"line\", rot=45, c=\"r\")"
   ]
  },
  {
   "cell_type": "markdown",
   "metadata": {},
   "source": [
    "We've seen date time handling, and how to plot simple run charts. Python and pandas can be used to do more complex plots, regression fits, and forecasts."
   ]
  }
 ],
 "metadata": {
  "kernelspec": {
   "display_name": "Python 2",
   "language": "python",
   "name": "python2"
  },
  "language_info": {
   "codemirror_mode": {
    "name": "ipython",
    "version": 2
   },
   "file_extension": ".py",
   "mimetype": "text/x-python",
   "name": "python",
   "nbconvert_exporter": "python",
   "pygments_lexer": "ipython2",
   "version": "2.7.11"
  }
 },
 "nbformat": 4,
 "nbformat_minor": 0
}
