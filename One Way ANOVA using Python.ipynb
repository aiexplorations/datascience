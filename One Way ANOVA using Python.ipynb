{
 "cells": [
  {
   "cell_type": "markdown",
   "metadata": {},
   "source": [
    "# ANOVA\n",
    "\n",
    "ANOVA stands for Analysis of Variance and is a method used to compare means of more than 2 samples. For one and two samples, we have the t-tests for 1 and 2 samples (which make normality and equal variance assumptions). The approach followed in ANOVA is to compute the variation within a subgroup, and the difference in the variation between subgroups. This approach is known as the sum of squares and mean squares methods and uses a statistic called the F-statistic to do this comparison.\n",
    "\n",
    "ANOVA makes the following assumptions:\n",
    "1. The data is normally distributed in each sample\n",
    "2. The variances of all samples are comparable (or are the same)\n",
    "\n",
    "In order to make such comparisons, we run a multiple variance test after running the standard normality tests, to check whether all samples come from populations with the same variance."
   ]
  },
  {
   "cell_type": "markdown",
   "metadata": {},
   "source": [
    "## ANOVA Hypothesis test\n",
    "\n",
    "Recall that for a 1 sample t-test, the default (or Null) and alternate hypotheses were:\n",
    "\n",
    "$$H_0: \\mu = k$$\n",
    "$$H_a: \\mu \\neq k$$\n",
    "\n",
    "This is subject to the sample coming from a normally distributed population.\n",
    "\n",
    "Similarly, for the 2-sample t-test, the hypotheses were:\n",
    "\n",
    "$$H_0: \\mu_1 = \\mu_2$$\n",
    "$$H_a: \\mu_1 \\neq \\mu_2$$\n",
    "\n",
    "This hypothesis can be tested effectively if the following assumptions are true:\n",
    "* Samples 1 and 2 both come from normally distributed populations\n",
    "* Samples 1 and 2 both have equal variances (variance confidence intervals overlap)\n",
    "\n",
    "ANOVA can be seen as an extension of the t-tests for comparing means. The same assumptions as for the 2-sample test will apply. If these assumptions are verified, we can conduct the following hypothesis test:\n",
    "\n",
    "$$H_0: \\mu_1 = \\mu_2 = \\mu_3 $$\n",
    "$$H_a: \\mu_1 \\neq \\mu_2 = \\mu_3$$\n",
    "or\n",
    "$$H_a: \\mu_1 = \\mu_2 \\neq \\mu_3$$\n",
    "\n",
    "i.e., the alternate hypothesis of ANOVA is that **at least one of the means is different from the others**.\n"
   ]
  },
  {
   "cell_type": "markdown",
   "metadata": {},
   "source": [
    "## Problem Description\n",
    "\n",
    "The average wait time in five different counters at a fast food chain is to be analyzed. The analyst hopes to discover whether any differences exist between the performance of different counters. There are five different self-service counters, where staff vend dishes purchased by customers. The wait time for each customer is calculated from the time they arrive at the restaurant, to the time they receive their dish. This includes the time taken to place the order, and the time taken to prepare orders. Wait times are measured in minutes."
   ]
  },
  {
   "cell_type": "code",
   "execution_count": 130,
   "metadata": {
    "collapsed": true
   },
   "outputs": [],
   "source": [
    "import numpy as np\n",
    "import random\n",
    "import scipy as sp\n",
    "import scipy.stats as stats\n",
    "import pandas as pd\n",
    "import matplotlib.pyplot as plt\n",
    "%matplotlib inline"
   ]
  },
  {
   "cell_type": "markdown",
   "metadata": {},
   "source": [
    "## Reading and understanding the data\n",
    "\n",
    "In this case, the data (as a CSV) is imported into Pandas and studied to understand some key statistics. We can also construct plots of the data."
   ]
  },
  {
   "cell_type": "code",
   "execution_count": 131,
   "metadata": {
    "collapsed": false
   },
   "outputs": [
    {
     "data": {
      "text/html": [
       "<div>\n",
       "<table border=\"1\" class=\"dataframe\">\n",
       "  <thead>\n",
       "    <tr style=\"text-align: right;\">\n",
       "      <th></th>\n",
       "      <th>counter1</th>\n",
       "      <th>counter2</th>\n",
       "      <th>counter3</th>\n",
       "      <th>counter4</th>\n",
       "      <th>counter5</th>\n",
       "    </tr>\n",
       "  </thead>\n",
       "  <tbody>\n",
       "    <tr>\n",
       "      <th>0</th>\n",
       "      <td>5.5</td>\n",
       "      <td>4.5</td>\n",
       "      <td>4.9</td>\n",
       "      <td>5.3</td>\n",
       "      <td>4.7</td>\n",
       "    </tr>\n",
       "    <tr>\n",
       "      <th>1</th>\n",
       "      <td>5.0</td>\n",
       "      <td>4.5</td>\n",
       "      <td>4.8</td>\n",
       "      <td>5.4</td>\n",
       "      <td>5.0</td>\n",
       "    </tr>\n",
       "    <tr>\n",
       "      <th>2</th>\n",
       "      <td>4.9</td>\n",
       "      <td>5.4</td>\n",
       "      <td>5.1</td>\n",
       "      <td>3.8</td>\n",
       "      <td>6.3</td>\n",
       "    </tr>\n",
       "    <tr>\n",
       "      <th>3</th>\n",
       "      <td>5.3</td>\n",
       "      <td>4.2</td>\n",
       "      <td>4.4</td>\n",
       "      <td>4.4</td>\n",
       "      <td>5.2</td>\n",
       "    </tr>\n",
       "    <tr>\n",
       "      <th>4</th>\n",
       "      <td>3.5</td>\n",
       "      <td>5.4</td>\n",
       "      <td>5.1</td>\n",
       "      <td>4.6</td>\n",
       "      <td>5.8</td>\n",
       "    </tr>\n",
       "  </tbody>\n",
       "</table>\n",
       "</div>"
      ],
      "text/plain": [
       "   counter1  counter2  counter3  counter4  counter5\n",
       "0       5.5       4.5       4.9       5.3       4.7\n",
       "1       5.0       4.5       4.8       5.4       5.0\n",
       "2       4.9       5.4       5.1       3.8       6.3\n",
       "3       5.3       4.2       4.4       4.4       5.2\n",
       "4       3.5       5.4       5.1       4.6       5.8"
      ]
     },
     "execution_count": 131,
     "metadata": {},
     "output_type": "execute_result"
    }
   ],
   "source": [
    "times = pd.read_csv(\"waittimes.csv\")\n",
    "times.head()"
   ]
  },
  {
   "cell_type": "code",
   "execution_count": 132,
   "metadata": {
    "collapsed": false
   },
   "outputs": [
    {
     "data": {
      "text/html": [
       "<div>\n",
       "<table border=\"1\" class=\"dataframe\">\n",
       "  <thead>\n",
       "    <tr style=\"text-align: right;\">\n",
       "      <th></th>\n",
       "      <th>counter1</th>\n",
       "      <th>counter2</th>\n",
       "      <th>counter3</th>\n",
       "      <th>counter4</th>\n",
       "      <th>counter5</th>\n",
       "    </tr>\n",
       "  </thead>\n",
       "  <tbody>\n",
       "    <tr>\n",
       "      <th>count</th>\n",
       "      <td>100.000000</td>\n",
       "      <td>100.000000</td>\n",
       "      <td>100.000000</td>\n",
       "      <td>100.000000</td>\n",
       "      <td>100.000000</td>\n",
       "    </tr>\n",
       "    <tr>\n",
       "      <th>mean</th>\n",
       "      <td>5.092000</td>\n",
       "      <td>5.121000</td>\n",
       "      <td>5.113000</td>\n",
       "      <td>4.968000</td>\n",
       "      <td>5.559000</td>\n",
       "    </tr>\n",
       "    <tr>\n",
       "      <th>std</th>\n",
       "      <td>0.450965</td>\n",
       "      <td>0.591744</td>\n",
       "      <td>0.479405</td>\n",
       "      <td>0.584804</td>\n",
       "      <td>0.928896</td>\n",
       "    </tr>\n",
       "    <tr>\n",
       "      <th>min</th>\n",
       "      <td>3.500000</td>\n",
       "      <td>3.400000</td>\n",
       "      <td>3.700000</td>\n",
       "      <td>3.600000</td>\n",
       "      <td>3.000000</td>\n",
       "    </tr>\n",
       "    <tr>\n",
       "      <th>25%</th>\n",
       "      <td>4.900000</td>\n",
       "      <td>4.700000</td>\n",
       "      <td>4.800000</td>\n",
       "      <td>4.500000</td>\n",
       "      <td>4.975000</td>\n",
       "    </tr>\n",
       "    <tr>\n",
       "      <th>50%</th>\n",
       "      <td>5.100000</td>\n",
       "      <td>5.200000</td>\n",
       "      <td>5.100000</td>\n",
       "      <td>5.000000</td>\n",
       "      <td>5.700000</td>\n",
       "    </tr>\n",
       "    <tr>\n",
       "      <th>75%</th>\n",
       "      <td>5.400000</td>\n",
       "      <td>5.600000</td>\n",
       "      <td>5.400000</td>\n",
       "      <td>5.400000</td>\n",
       "      <td>6.125000</td>\n",
       "    </tr>\n",
       "    <tr>\n",
       "      <th>max</th>\n",
       "      <td>6.000000</td>\n",
       "      <td>6.500000</td>\n",
       "      <td>6.700000</td>\n",
       "      <td>6.300000</td>\n",
       "      <td>8.500000</td>\n",
       "    </tr>\n",
       "  </tbody>\n",
       "</table>\n",
       "</div>"
      ],
      "text/plain": [
       "         counter1    counter2    counter3    counter4    counter5\n",
       "count  100.000000  100.000000  100.000000  100.000000  100.000000\n",
       "mean     5.092000    5.121000    5.113000    4.968000    5.559000\n",
       "std      0.450965    0.591744    0.479405    0.584804    0.928896\n",
       "min      3.500000    3.400000    3.700000    3.600000    3.000000\n",
       "25%      4.900000    4.700000    4.800000    4.500000    4.975000\n",
       "50%      5.100000    5.200000    5.100000    5.000000    5.700000\n",
       "75%      5.400000    5.600000    5.400000    5.400000    6.125000\n",
       "max      6.000000    6.500000    6.700000    6.300000    8.500000"
      ]
     },
     "execution_count": 132,
     "metadata": {},
     "output_type": "execute_result"
    }
   ],
   "source": [
    "times.describe()"
   ]
  },
  {
   "cell_type": "markdown",
   "metadata": {},
   "source": [
    "The data in this case seems to have 100 customers' wait times recorded, and the mean, min/max and key statistics of the data are shown, by counter."
   ]
  },
  {
   "cell_type": "markdown",
   "metadata": {},
   "source": [
    "## Plotting and visualizing the data\n",
    "\n",
    "Using Pandas' built in plotting methods, we can quickly construct plots and analyse the data set."
   ]
  },
  {
   "cell_type": "code",
   "execution_count": 133,
   "metadata": {
    "collapsed": false
   },
   "outputs": [
    {
     "data": {
      "image/png": "[encoded data removed]",
      "text/plain": [
       "<matplotlib.figure.Figure at 0x7fd73cdaf110>"
      ]
     },
     "metadata": {},
     "output_type": "display_data"
    },
    {
     "data": {
      "image/png": "[encoded data removed]",
      "text/plain": [
       "<matplotlib.figure.Figure at 0x7fd73d27c8d0>"
      ]
     },
     "metadata": {},
     "output_type": "display_data"
    },
    {
     "data": {
      "image/png": "[encoded data removed]",
      "text/plain": [
       "<matplotlib.figure.Figure at 0x7fd73d27c3d0>"
      ]
     },
     "metadata": {},
     "output_type": "display_data"
    }
   ],
   "source": [
    "times.plot(kind = \"box\", title = \"Box plots of counter times\")\n",
    "times.plot(kind = \"kde\", title = \"Density estimations of counter times\")\n",
    "times.plot(kind = \"hist\", alpha = 0.5, bins = 20, title = \"Histograms of counter times\") #can set alpha blending value for transparency\n",
    "plt.show()"
   ]
  },
  {
   "cell_type": "markdown",
   "metadata": {},
   "source": [
    "The data from each counter seems to show median values between 3 and 9 minutes. The histogram reveals that some counters (like counter 5) have a high spread, indicating large variability in the process followed at the counter. In some other counters, the variability is far lesser, like in counter 1. The density plot reveals that the data from counter 5 shows a higher mean and large variability. Also, counter 2 and counter 4 seem to be very comparable in performance and mean values, from the kernel density plot.\n",
    "\n"
   ]
  },
  {
   "cell_type": "markdown",
   "metadata": {},
   "source": [
    "## Checking Normality\n",
    "\n",
    "We define a function to calculate the AD test statistic and use this to compute the significance of the result in each case."
   ]
  },
  {
   "cell_type": "code",
   "execution_count": 134,
   "metadata": {
    "collapsed": false
   },
   "outputs": [],
   "source": [
    "def isnormal(data):\n",
    "    result = sp.stats.anderson(data, dist = \"norm\")\n",
    "    for x in zip(result.significance_level, result.critical_values):\n",
    "        if(result.statistic > x[1]):\n",
    "            print \"Alternate hypothesis of normality test has a significance level of \",x[0], \"% for this data.\"\n",
    "        else:\n",
    "            continue\n"
   ]
  },
  {
   "cell_type": "markdown",
   "metadata": {},
   "source": [
    "Once the function has been constructed, we can check whether the data from all counters in the restaurant are normally distributed. Counters that do not have normally distributed data are considered to have a different process."
   ]
  },
  {
   "cell_type": "code",
   "execution_count": 135,
   "metadata": {
    "collapsed": true
   },
   "outputs": [],
   "source": [
    "isnormal(times[\"counter1\"])"
   ]
  },
  {
   "cell_type": "code",
   "execution_count": 136,
   "metadata": {
    "collapsed": true
   },
   "outputs": [],
   "source": [
    "isnormal(times[\"counter2\"])"
   ]
  },
  {
   "cell_type": "code",
   "execution_count": 137,
   "metadata": {
    "collapsed": false
   },
   "outputs": [],
   "source": [
    "isnormal(times[\"counter3\"])"
   ]
  },
  {
   "cell_type": "code",
   "execution_count": 138,
   "metadata": {
    "collapsed": false
   },
   "outputs": [
    {
     "name": "stdout",
     "output_type": "stream",
     "text": [
      "Alternate hypothesis of normality test has a significance level of  15.0 % for this data.\n",
      "Alternate hypothesis of normality test has a significance level of  10.0 % for this data.\n",
      "Alternate hypothesis of normality test has a significance level of  5.0 % for this data.\n",
      "Alternate hypothesis of normality test has a significance level of  2.5 % for this data.\n"
     ]
    }
   ],
   "source": [
    "isnormal(times[\"counter4\"])"
   ]
  },
  {
   "cell_type": "code",
   "execution_count": 139,
   "metadata": {
    "collapsed": false
   },
   "outputs": [],
   "source": [
    "isnormal(times[\"counter5\"])"
   ]
  },
  {
   "cell_type": "markdown",
   "metadata": {},
   "source": [
    "We see that for one counter, we have a distinctly different process (which is not normally distributed with a 15% significance level. For the remaining 4 processes, we can do an ANOVA study, and compare means. Our next step is to compare variances. We can do this using the test for equal variances."
   ]
  },
  {
   "cell_type": "markdown",
   "metadata": {},
   "source": [
    "## Tests for Equal Variances"
   ]
  },
  {
   "cell_type": "code",
   "execution_count": 140,
   "metadata": {
    "collapsed": false
   },
   "outputs": [
    {
     "name": "stdout",
     "output_type": "stream",
     "text": [
      "BartlettResult(statistic=71.185617955105002, pvalue=1.2753671136551051e-14)\n",
      "LeveneResult(statistic=14.614257615390764, pvalue=2.7236471256931584e-11)\n"
     ]
    }
   ],
   "source": [
    "print stats.bartlett(times[\"counter1\"], times[\"counter2\"], times[\"counter3\"], times[\"counter4\"], times[\"counter5\"])\n",
    "print stats.levene(times[\"counter1\"], times[\"counter2\"], times[\"counter3\"], times[\"counter4\"], times[\"counter5\"])"
   ]
  },
  {
   "cell_type": "markdown",
   "metadata": {},
   "source": [
    "The Bartlett and Levene tests for equal variances also fail, because the p-value in both cases is extremely low, indicating a very slim chance of Type 1 error when we reject the null hypothesis. We can further confirm this by plotting the confidence intervals for the variances."
   ]
  },
  {
   "cell_type": "code",
   "execution_count": 142,
   "metadata": {
    "collapsed": false
   },
   "outputs": [
    {
     "name": "stdout",
     "output_type": "stream",
     "text": [
      "Variances of data, counters 1 thru 5: \n",
      "0.201336\n",
      "0.346659\n",
      "0.227531\n",
      "0.338576\n",
      "0.854219\n"
     ]
    }
   ],
   "source": [
    "print \"Variances of data, counters 1 thru 5: \"\n",
    "print sp.var(times[\"counter1\"])\n",
    "print sp.var(times[\"counter2\"])\n",
    "print sp.var(times[\"counter3\"])\n",
    "print sp.var(times[\"counter4\"])\n",
    "print sp.var(times[\"counter5\"])"
   ]
  },
  {
   "cell_type": "markdown",
   "metadata": {},
   "source": [
    "Observe that the boxplot (which gives us an idea of the variability in the data) also agrees with these assessments of the variance. For counters 4 and 5, the boxes seem to be wider, and for the others, they're narrower. The reason we conduct the test, however, is because it computes confidence intervals. The above variance calculations are point estimates and don't consider the variability in the data set. The variability is usually a powerful indicator of where the population variance may lie."
   ]
  },
  {
   "cell_type": "markdown",
   "metadata": {},
   "source": [
    "## One Way ANOVA"
   ]
  },
  {
   "cell_type": "markdown",
   "metadata": {},
   "source": [
    "One Way ANOVA for the first three counters (which were all normally distributed, and showed similar variance) is below."
   ]
  },
  {
   "cell_type": "code",
   "execution_count": 156,
   "metadata": {
    "collapsed": false
   },
   "outputs": [
    {
     "name": "stdout",
     "output_type": "stream",
     "text": [
      "Comparing counters 1-3:\n",
      "P-value :  0.917697767916 \tF-statistic:  0.0859120132658\n",
      "\n",
      "Comparing counters 1-4:\n",
      "P-value :  0.144480842723 \tF-statistic:  1.81145711973\n",
      "\n",
      "Comparing counters 1-5:\n",
      "P-value :  6.18627770748e-10 \tF-statistic:  12.8166739571\n"
     ]
    }
   ],
   "source": [
    "\n",
    "#Comparing means of counters 1 to 3\n",
    "counters1to3 = stats.f_oneway(times[\"counter1\"], times[\"counter2\"], times[\"counter3\"])\n",
    "print \"Comparing counters 1-3:\"\n",
    "print \"P-value : \",counters1to3.pvalue, \"\\tF-statistic: \", counters1to3.statistic\n",
    "\n",
    "\n",
    "#Comparing means of counters 1 to 4\n",
    "counters1to4 = stats.f_oneway(times[\"counter1\"], times[\"counter2\"], times[\"counter3\"], times[\"counter4\"])\n",
    "print \"\\nComparing counters 1-4:\"\n",
    "print \"P-value : \",counters1to4.pvalue, \"\\tF-statistic: \", counters1to4.statistic\n",
    "\n",
    "\n",
    "#Comparing means of all counters\n",
    "counters1to5 = stats.f_oneway(times[\"counter1\"], times[\"counter2\"], \n",
    "                              times[\"counter3\"], times[\"counter4\"], times[\"counter5\"])\n",
    "print \"\\nComparing counters 1-5:\"\n",
    "print \"P-value : \",counters1to5.pvalue, \"\\tF-statistic: \", counters1to5.statistic\n"
   ]
  },
  {
   "cell_type": "markdown",
   "metadata": {},
   "source": [
    "### Making sense of the p-values and F-statistics\n",
    "\n",
    "The p-values answer the following question in ANOVA:\n",
    "\n",
    "*\"If all the populations really have the same mean (all counters really have the same wait time), what is the chance that random sampling would result in means as far apart (or more so) as observed in this data set?\"*\n",
    "\n",
    "**P-value interpretation each set of results:**\n",
    "\n",
    "* **Counters 1-3**: If all of the first three counters really have the same population mean, there is a 91.7% chance that random sampling would result in the means of those three samples as far as apart (or more so) as observed in this data set.\n",
    "\n",
    "* **Counters 1-4**: If all of the first four counters really have the same population mean, there is a 14.4% chance that random sampling would result in the means of those three samples as far as apart (or more so) as observed in this data set.\n",
    "\n",
    "* **Counters 1-5**: If all counters really have the same population mean, there is a $6\\times10^{-8} \\% $ (or... a very, very, very low) chance that random sampling would result in the means of those three samples as far as apart (or more so) as observed in this data set.\n",
    "\n",
    "### Interpreting the F-statistic values:\n",
    "\n",
    "$$F_{stat} = \\frac {Mean\\ square\\ of\\ factors}{Mean\\ square\\ of\\ errors}$$\n",
    "\n",
    "* The higher the F-statistic, the greater the chance that you have a statistically significant result\n",
    "* p-values are computed based on the f-statistic and a critical value on the F-distribution\n",
    "* If we expect the null hypothesis to be a model of the true state, the experiment should give us a low F-statistic value.\n",
    "* Conversely, if we are testing for a significant result, we should look for a high value of F-statistic.\n",
    "* For most ANOVA models, an F-statistic of >15 indicates that the mean square of the factors is much greater than the mean squared of errors.\n",
    "\n",
    "\n",
    "Observe how in the above data set, the experiment for Counters 1-3 returned a low F-statistic, while for the other two, we got relatively higher F-statistic values. An F-statistic value of 1 means the mean square values of factors and errors are the same, and that we can hardly distinguish the mean of one sample from the other means.\n"
   ]
  },
  {
   "cell_type": "markdown",
   "metadata": {},
   "source": [
    "### Note: \n",
    "We don't consider counters which have a different variance in the comparison (because we already know that process is different)"
   ]
  },
  {
   "cell_type": "markdown",
   "metadata": {},
   "source": [
    "As is clear from the F-statistic and the p-value, the first three counters have very comparable means and the differences between them are not statistically significant. The other two counters (4 and 5) seem to have either a distinct mean, or a distinct variance."
   ]
  }
 ],
 "metadata": {
  "kernelspec": {
   "display_name": "Python 2",
   "language": "python",
   "name": "python2"
  },
  "language_info": {
   "codemirror_mode": {
    "name": "ipython",
    "version": 2
   },
   "file_extension": ".py",
   "mimetype": "text/x-python",
   "name": "python",
   "nbconvert_exporter": "python",
   "pygments_lexer": "ipython2",
   "version": "2.7.11"
  }
 },
 "nbformat": 4,
 "nbformat_minor": 0
}
