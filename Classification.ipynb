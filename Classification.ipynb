{
 "cells": [
  {
   "cell_type": "markdown",
   "metadata": {},
   "source": [
    "# Classification in Python\n",
    "\n",
    "Classification is the process of taking a data set and dividing it into a number of clusters or groups. There are several approaches to classification. Naive Bayes classifier assumes that the categories are not interrelated, and classifies into two or more categories.\n",
    "\n",
    "When there are continuous variables which together decide the nature of clusters in a data set, we can use k-Means clustering algorithm.\n",
    "\n",
    "In the following example, we will use k-means clustering to evaluate a data set and divide it into multiple categories. We will now import some data from projects, which have project spend and project delay data. "
   ]
  },
  {
   "cell_type": "code",
   "execution_count": 214,
   "metadata": {
    "collapsed": false
   },
   "outputs": [],
   "source": [
    "import pandas as pd\n",
    "import matplotlib.pyplot as plt\n",
    "%matplotlib inline"
   ]
  },
  {
   "cell_type": "markdown",
   "metadata": {},
   "source": [
    "We use the Pandas library for creating and manipulating data frames. Further, we can import Matplotlib also, since it is used by Pandas to render plots."
   ]
  },
  {
   "cell_type": "code",
   "execution_count": 222,
   "metadata": {
    "collapsed": false
   },
   "outputs": [
    {
     "name": "stdout",
     "output_type": "stream",
     "text": [
      "   Unnamed: 0  project_delay_penalty ($k)  project_spend ($m)\n",
      "0           0                        2.70                4.53\n",
      "1           1                        3.56                4.55\n",
      "2           2                        2.89                5.11\n",
      "3           3                        3.29                5.26\n",
      "4           4                        2.03                5.02\n",
      "\n",
      "Dataset has an index column which needs to be removed.\n",
      "\n",
      "   project_delay_penalty ($k)  project_spend ($m)\n",
      "0                        2.70                4.53\n",
      "1                        3.56                4.55\n",
      "2                        2.89                5.11\n",
      "3                        3.29                5.26\n",
      "4                        2.03                5.02\n"
     ]
    }
   ],
   "source": [
    "dataset = pd.read_csv(\"dataset.csv\")\n",
    "print dataset.head()\n",
    "\n",
    "print \"\\nDataset has an index column which needs to be removed.\\n\"\n",
    "\n",
    "del dataset[\"Unnamed: 0\"] #Removing an index column\n",
    "print dataset.head()"
   ]
  },
  {
   "cell_type": "markdown",
   "metadata": {},
   "source": [
    "We now have the two variables based on which we have to determine whether there is a need for classification or regression. By plotting the data, we can get a sense of how the data is behaving, and what approach is best.\n",
    "\n",
    "* Constructing a scatter plot of the variables can reveal patterns\n",
    "* The scatter diagram can also reveal outliers, unusual combination of values, etc.\n",
    "* Once we have established the appropriate learning approach, we can construct an algorithm for this"
   ]
  },
  {
   "cell_type": "code",
   "execution_count": 216,
   "metadata": {
    "collapsed": false,
    "scrolled": true
   },
   "outputs": [
    {
     "data": {
      "image/png": "[encoded data removed]",
      "text/plain": [
       "<matplotlib.figure.Figure at 0x7fa402c2e090>"
      ]
     },
     "metadata": {},
     "output_type": "display_data"
    }
   ],
   "source": [
    "dataset.plot(x = \"project_spend ($m)\", y = \"project_delay_penalty ($k)\",kind =\"scatter\", title=\"Multivariate scatter plot of dataset\")\n",
    "\n",
    "plt.show()"
   ]
  },
  {
   "cell_type": "markdown",
   "metadata": {},
   "source": [
    "From the above figure:\n",
    "* There seem to be 3 categories in the data\n",
    "* One category is clearly differentiated from the others"
   ]
  },
  {
   "cell_type": "code",
   "execution_count": 203,
   "metadata": {
    "collapsed": false
   },
   "outputs": [
    {
     "data": {
      "text/plain": [
       "KMeans(copy_x=True, init='k-means++', max_iter=300, n_clusters=3, n_init=10,\n",
       "    n_jobs=1, precompute_distances='auto', random_state=None, tol=0.0001,\n",
       "    verbose=0)"
      ]
     },
     "execution_count": 203,
     "metadata": {},
     "output_type": "execute_result"
    }
   ],
   "source": [
    "from sklearn.cluster import KMeans\n",
    "\n",
    "km = KMeans(n_clusters=3)\n",
    "\n",
    "km.fit(dataset)"
   ]
  },
  {
   "cell_type": "code",
   "execution_count": 223,
   "metadata": {
    "collapsed": true
   },
   "outputs": [],
   "source": [
    "labels = km.predict(dataset)"
   ]
  },
  {
   "cell_type": "markdown",
   "metadata": {},
   "source": [
    "## K-Means as Unsupervised Learning\n",
    "\n",
    "The predict() method within the KMeans object allows us to predict a set of label for each tuple of entries. Effectively, the first x and first y values are taken as a pair, and assigned a label based on a distance function. Since there is no explicit training set here, this kind of learning is called \"Unsupervised learning\".\n"
   ]
  },
  {
   "cell_type": "code",
   "execution_count": 205,
   "metadata": {
    "collapsed": false
   },
   "outputs": [
    {
     "name": "stdout",
     "output_type": "stream",
     "text": [
      "[1 1 1 1 1 1 1 1 1 1 1 1 1 1 1 1 1 1 1 1 1 1 1 1 1 1 1 1 1 1 1 1 1 1 1 1 1\n",
      " 1 1 1 1 1 1 1 1 1 1 1 1 1 2 2 2 2 1 2 2 2 2 2 2 2 2 2 2 2 2 2 2 2 2 2 2 2\n",
      " 2 2 2 1 2 2 2 2 2 2 2 2 2 2 2 2 2 2 2 2 2 2 1 2 2 2 0 0 0 0 0 0 0 0 0 0 0\n",
      " 0 0 0 0 0 0 0 0 0 0 0 0 0 0 0 0 0 0 0 0 0 0 0 0 0 0 0 0 0 0 0 0 0 0 0 0 0\n",
      " 0 0] (150, 2)\n"
     ]
    }
   ],
   "source": [
    "print labels, np.shape(dataset)"
   ]
  },
  {
   "cell_type": "markdown",
   "metadata": {},
   "source": [
    "## Visualizing the clusters in the data\n",
    "\n",
    "We can pass the labels predicted above to the plot methods, as a colour variable. This allows us to colour the clusters based on the label they've been assigned."
   ]
  },
  {
   "cell_type": "code",
   "execution_count": 206,
   "metadata": {
    "collapsed": false
   },
   "outputs": [
    {
     "data": {
      "text/plain": [
       "<matplotlib.text.Text at 0x7fa402bc00d0>"
      ]
     },
     "execution_count": 206,
     "metadata": {},
     "output_type": "execute_result"
    },
    {
     "data": {
      "image/png": "[encoded data removed]",
      "text/plain": [
       "<matplotlib.figure.Figure at 0x7fa402c6a190>"
      ]
     },
     "metadata": {},
     "output_type": "display_data"
    }
   ],
   "source": [
    "plt.scatter(x = dataset[\"project_spend ($m)\"], y = dataset[\"project_delay_penalty ($k)\"], c = labels)\n",
    "plt.title(\"Multivariate scatter plot of points with categories\")"
   ]
  },
  {
   "cell_type": "code",
   "execution_count": 207,
   "metadata": {
    "collapsed": true
   },
   "outputs": [],
   "source": [
    "newdataset = pd.read_csv(\"newdataset.csv\")"
   ]
  },
  {
   "cell_type": "code",
   "execution_count": 208,
   "metadata": {
    "collapsed": false
   },
   "outputs": [
    {
     "data": {
      "text/html": [
       "<div>\n",
       "<table border=\"1\" class=\"dataframe\">\n",
       "  <thead>\n",
       "    <tr style=\"text-align: right;\">\n",
       "      <th></th>\n",
       "      <th>project_delay_penalty ($k)</th>\n",
       "      <th>project_spend ($m)</th>\n",
       "    </tr>\n",
       "  </thead>\n",
       "  <tbody>\n",
       "    <tr>\n",
       "      <th>0</th>\n",
       "      <td>3.96</td>\n",
       "      <td>5.75</td>\n",
       "    </tr>\n",
       "    <tr>\n",
       "      <th>1</th>\n",
       "      <td>2.74</td>\n",
       "      <td>5.24</td>\n",
       "    </tr>\n",
       "    <tr>\n",
       "      <th>2</th>\n",
       "      <td>4.73</td>\n",
       "      <td>4.64</td>\n",
       "    </tr>\n",
       "    <tr>\n",
       "      <th>3</th>\n",
       "      <td>3.48</td>\n",
       "      <td>5.05</td>\n",
       "    </tr>\n",
       "    <tr>\n",
       "      <th>4</th>\n",
       "      <td>3.44</td>\n",
       "      <td>5.66</td>\n",
       "    </tr>\n",
       "  </tbody>\n",
       "</table>\n",
       "</div>"
      ],
      "text/plain": [
       "   project_delay_penalty ($k)  project_spend ($m)\n",
       "0                        3.96                5.75\n",
       "1                        2.74                5.24\n",
       "2                        4.73                4.64\n",
       "3                        3.48                5.05\n",
       "4                        3.44                5.66"
      ]
     },
     "execution_count": 208,
     "metadata": {},
     "output_type": "execute_result"
    }
   ],
   "source": [
    "del newdataset[\"Unnamed: 0\"]\n",
    "newdataset.head()"
   ]
  },
  {
   "cell_type": "code",
   "execution_count": 209,
   "metadata": {
    "collapsed": false
   },
   "outputs": [
    {
     "name": "stdout",
     "output_type": "stream",
     "text": [
      "[1 1 1 1 1 2 2 2 2 2 3 3 3 3 3]\n"
     ]
    }
   ],
   "source": [
    "truelabels = [1,1,1,1,1,2,2,2,2,2,3,3,3,3,3]\n",
    "truelabels = np.asarray(truelabels) #Converting a regular list to a Numpy array\n",
    "\n",
    "newlabels = km.predict(newdataset)\n",
    "print truelabels"
   ]
  },
  {
   "cell_type": "code",
   "execution_count": 210,
   "metadata": {
    "collapsed": false
   },
   "outputs": [
    {
     "data": {
      "text/plain": [
       "<matplotlib.text.Text at 0x7fa402b6ff10>"
      ]
     },
     "execution_count": 210,
     "metadata": {},
     "output_type": "execute_result"
    },
    {
     "data": {
      "image/png": "[encoded data removed]",
      "text/plain": [
       "<matplotlib.figure.Figure at 0x7fa402c6ad50>"
      ]
     },
     "metadata": {},
     "output_type": "display_data"
    }
   ],
   "source": [
    "plt.scatter(x = newdataset[\"project_spend ($m)\"], y = newdataset[\"project_delay_penalty ($k)\"], c = newlabels)\n",
    "plt.xlabel(\"Project spend ($m)\")\n",
    "plt.ylabel(\"Project delay penalty ($k)\")\n",
    "plt.title(\"Multivariate scatter plot of new dataset with categories\")"
   ]
  },
  {
   "cell_type": "code",
   "execution_count": 211,
   "metadata": {
    "collapsed": false
   },
   "outputs": [
    {
     "name": "stdout",
     "output_type": "stream",
     "text": [
      "(15,) (15,)\n"
     ]
    },
    {
     "data": {
      "text/plain": [
       "0.66666666666666663"
      ]
     },
     "execution_count": 211,
     "metadata": {},
     "output_type": "execute_result"
    }
   ],
   "source": [
    "from sklearn.metrics import accuracy_score, confusion_matrix\n",
    "\n",
    "print np.shape(truelabels), np.shape(newlabels)\n",
    "\n",
    "accuracy_score(truelabels, newlabels)"
   ]
  },
  {
   "cell_type": "code",
   "execution_count": 212,
   "metadata": {
    "collapsed": false
   },
   "outputs": [
    {
     "data": {
      "text/plain": [
       "array([[0, 0, 0, 0],\n",
       "       [0, 5, 0, 0],\n",
       "       [0, 0, 5, 0],\n",
       "       [5, 0, 0, 0]])"
      ]
     },
     "execution_count": 212,
     "metadata": {},
     "output_type": "execute_result"
    }
   ],
   "source": [
    "confusion_matrix(truelabels, newlabels)"
   ]
  },
  {
   "cell_type": "code",
   "execution_count": 213,
   "metadata": {
    "collapsed": false
   },
   "outputs": [
    {
     "data": {
      "text/plain": [
       "1.0"
      ]
     },
     "execution_count": 213,
     "metadata": {},
     "output_type": "execute_result"
    }
   ],
   "source": [
    "from sklearn.metrics import adjusted_rand_score\n",
    "\n",
    "adjusted_rand_score(truelabels, newlabels)"
   ]
  }
 ],
 "metadata": {
  "kernelspec": {
   "display_name": "Python 2",
   "language": "python",
   "name": "python2"
  },
  "language_info": {
   "codemirror_mode": {
    "name": "ipython",
    "version": 2
   },
   "file_extension": ".py",
   "mimetype": "text/x-python",
   "name": "python",
   "nbconvert_exporter": "python",
   "pygments_lexer": "ipython2",
   "version": "2.7.11"
  }
 },
 "nbformat": 4,
 "nbformat_minor": 0
}
