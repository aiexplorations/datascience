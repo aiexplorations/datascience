{
 "cells": [
  {
   "cell_type": "markdown",
   "metadata": {},
   "source": [
    "# Least Squares Regression \n",
    "\n",
    "\n",
    "## Contents\n",
    "\n",
    "* Simple linear regression\n",
    "* Train-test Cross Validation (CV)\n",
    "* Regression, Correlation and Causation - things to remember"
   ]
  },
  {
   "cell_type": "code",
   "execution_count": 1,
   "metadata": {
    "collapsed": true
   },
   "outputs": [],
   "source": [
    "#General libraries to be used\n",
    "\n",
    "import scipy as sp\n",
    "import scipy.stats as stats\n",
    "import numpy as np\n",
    "import pandas as pd\n",
    "import matplotlib.pyplot as plt\n",
    "%matplotlib inline"
   ]
  },
  {
   "cell_type": "markdown",
   "metadata": {},
   "source": [
    "## Simple Linear Regression"
   ]
  },
  {
   "cell_type": "code",
   "execution_count": 2,
   "metadata": {
    "collapsed": false
   },
   "outputs": [],
   "source": [
    "data = pd.read_csv(\"slr.csv\")\n",
    "x = data['x']\n",
    "y = data['y']"
   ]
  },
  {
   "cell_type": "code",
   "execution_count": 3,
   "metadata": {
    "collapsed": false
   },
   "outputs": [
    {
     "name": "stdout",
     "output_type": "stream",
     "text": [
      "[[ 1.          0.49533718]\n",
      " [ 0.49533718  1.        ]]\n"
     ]
    },
    {
     "data": {
      "image/png": "[encoded data removed]",
      "text/plain": [
       "<matplotlib.figure.Figure at 0x1c9c8d30>"
      ]
     },
     "metadata": {},
     "output_type": "display_data"
    }
   ],
   "source": [
    "print np.corrcoef(x,y)  # Refer http://docs.scipy.org/doc/numpy-1.10.1/reference/generated/numpy.corrcoef.html for more\n",
    "\n",
    "plt.scatter(x,y)\n",
    "plt.show()"
   ]
  },
  {
   "cell_type": "markdown",
   "metadata": {},
   "source": [
    "X and Y in the above case seem to have some form of mild positive correlation, given the value of the Karl Pearson correlation coefficient $R$ is not very high ($R <0.7$, and $R > 0.2$)."
   ]
  },
  {
   "cell_type": "markdown",
   "metadata": {},
   "source": [
    "### Train-test CV\n",
    "\n",
    "**Scikit-Learn is a ML package within Python and offers a cross validation module.**\n",
    "\n",
    "The cross validation process is done to ensure that we have less overfitting or underfitting in our model, and that the bias-variance tradeoff of the model is as good as possible with the given data.\n",
    "\n",
    "We can use the train_test_split() function from sklearn.cross_validation to do this, as below."
   ]
  },
  {
   "cell_type": "code",
   "execution_count": 4,
   "metadata": {
    "collapsed": false
   },
   "outputs": [],
   "source": [
    "from sklearn.cross_validation import train_test_split\n",
    "\n",
    "x_tr, x_ts, y_tr, y_ts = train_test_split(pd.DataFrame(x),pd.DataFrame(y), random_state=42) #We have split the data"
   ]
  },
  {
   "cell_type": "code",
   "execution_count": 5,
   "metadata": {
    "collapsed": false
   },
   "outputs": [
    {
     "name": "stdout",
     "output_type": "stream",
     "text": [
      "           x\n",
      "15  2.594792\n",
      "40  1.348184\n",
      "96  4.152863\n",
      "9   0.353209\n",
      "72  4.696121\n",
      "           y\n",
      "15  0.361847\n",
      "40  0.067015\n",
      "96  0.322979\n",
      "9   0.652005\n",
      "72  0.816295\n"
     ]
    }
   ],
   "source": [
    "#Exploring the train and test sets\n",
    "\n",
    "print x_tr.head()\n",
    "print y_tr.head()"
   ]
  },
  {
   "cell_type": "markdown",
   "metadata": {},
   "source": [
    "Observe that the pairwise rows of data (X and Y pairs) have been randomly combined into the X and Y train and test sets. The data are chosen across the entire range of values."
   ]
  },
  {
   "cell_type": "markdown",
   "metadata": {},
   "source": [
    "### Fitting a model to the data\n",
    "\n",
    "We can fit a model to the data using the linear regression function within sklearn.\n",
    "\n",
    "The LinearRegression() constructor implements three methods: fit(), predict() and score.\n",
    "* The fit() method takes the X and Y arguments and constructs a model. It performs the optimization necessary for the coefficients of each X column to be identified.\n",
    "* The predict() method takes a series of x values, and predicts y values based on the model that's been constructed.\n",
    "* The score() method calculates a score for the performance of the model with respect to the data available. It takes the x and corresponding y arrays as inputs.\n"
   ]
  },
  {
   "cell_type": "code",
   "execution_count": 6,
   "metadata": {
    "collapsed": false
   },
   "outputs": [
    {
     "name": "stdout",
     "output_type": "stream",
     "text": [
      "Score from built in function (training set):  0.294604116621\n",
      "Score from built in function (test set):  0.0774044872847\n"
     ]
    }
   ],
   "source": [
    "from sklearn.linear_model import LinearRegression\n",
    "\n",
    "lr = LinearRegression()\n",
    "\n",
    "lr.fit(x_tr, y_tr)\n",
    "\n",
    "print \"Score from built in function (training set): \", lr.score(x_tr, y_tr)\n",
    "print \"Score from built in function (test set): \", lr.score(x_ts, y_ts)\n"
   ]
  },
  {
   "cell_type": "code",
   "execution_count": 7,
   "metadata": {
    "collapsed": false
   },
   "outputs": [
    {
     "data": {
      "text/plain": [
       "[<matplotlib.lines.Line2D at 0x1cb3dba8>]"
      ]
     },
     "execution_count": 7,
     "metadata": {},
     "output_type": "execute_result"
    },
    {
     "data": {
      "image/png": "[encoded data removed]",
      "text/plain": [
       "<matplotlib.figure.Figure at 0x1cb3def0>"
      ]
     },
     "metadata": {},
     "output_type": "display_data"
    }
   ],
   "source": [
    "xvals = np.linspace(-2,10,100)\n",
    "yvals = []\n",
    "for xval in xvals:\n",
    "    yvals.append(lr.predict(xval))\n",
    "\n",
    "plt.scatter(x_tr, y_tr, x_ts, y_ts)\n",
    "plt.title(\"X versus Y\")\n",
    "plt.xlabel(\"X\")\n",
    "plt.ylabel('y')\n",
    "plt.plot(x_ts,lr.predict(x_ts), \"r\")\n"
   ]
  },
  {
   "cell_type": "markdown",
   "metadata": {},
   "source": [
    "We have constructed a simple least squares linear model in this case, but do we have a model that fits the data well?\n",
    "\n",
    "We can understand this by calculating the $R^2$ score."
   ]
  },
  {
   "cell_type": "code",
   "execution_count": 8,
   "metadata": {
    "collapsed": false
   },
   "outputs": [
    {
     "name": "stdout",
     "output_type": "stream",
     "text": [
      "R-sq (test): 0.0774044872847\n",
      "R-sq (train): 0.294604116621\n"
     ]
    }
   ],
   "source": [
    "from sklearn.metrics import r2_score\n",
    "\n",
    "print \"R-sq (test):\", r2_score(y_ts, lr.predict(x_ts))\n",
    "print \"R-sq (train):\", r2_score(y_tr, lr.predict(x_tr))"
   ]
  },
  {
   "cell_type": "markdown",
   "metadata": {},
   "source": [
    "Observe that the $R^2$ score calculated here is identical to the score calculated from within the LinearRegression() object (in this case we called it \"lr\". There is some overlapping functionality in sklearn.\n",
    "\n",
    "### Interpretation of R-squared value\n",
    "\n",
    "* With an $R^2$ score of 0.077, this model is only able to explain 7.7% of the variation in Y with respect to X, for the test set. Let's visualize the test set alone to understand this.\n",
    "* Observe how the $R^2_{train} > R^2_{test}$. This means that we are overfitting the model to the data, and as a result, the model is able to more closely represent the training set, than the test set. The model may therefore be ineffective for representing the test set.\n",
    "\n"
   ]
  },
  {
   "cell_type": "code",
   "execution_count": 20,
   "metadata": {
    "collapsed": false
   },
   "outputs": [
    {
     "data": {
      "image/png": "[encoded data removed]",
      "text/plain": [
       "<matplotlib.figure.Figure at 0x204b91d0>"
      ]
     },
     "metadata": {},
     "output_type": "display_data"
    },
    {
     "data": {
      "text/plain": [
       "[<matplotlib.lines.Line2D at 0x20c70470>]"
      ]
     },
     "execution_count": 20,
     "metadata": {},
     "output_type": "execute_result"
    },
    {
     "data": {
      "image/png": "[encoded data removed]",
      "text/plain": [
       "<matplotlib.figure.Figure at 0x20a6cdd8>"
      ]
     },
     "metadata": {},
     "output_type": "display_data"
    }
   ],
   "source": [
    "'''xl = np.linspace(0,8,10)\n",
    "yl = []\n",
    "for x in xl:\n",
    "    yl.append(lr.predict(x))\n",
    "'''\n",
    "plt.scatter(x_tr, y_tr)\n",
    "plt.title(\"Training set with predicted values against training x-values\")\n",
    "plt.plot(x_tr, lr.predict(x_tr), \"g\")\n",
    "plt.show()\n",
    "plt.scatter(x_ts, y_ts)\n",
    "plt.title(\"Test set with predicted values against test x-values\")\n",
    "plt.plot(x_ts, lr.predict(x_ts), \"r\")"
   ]
  },
  {
   "cell_type": "markdown",
   "metadata": {},
   "source": [
    "For the line of best fit plotted above, we can also see the coefficients, by looking at the \"coef\\_\" object present inside the linear regression object. Similarly, \"intercept\\_\" tells us the intercept value. "
   ]
  },
  {
   "cell_type": "code",
   "execution_count": 21,
   "metadata": {
    "collapsed": false
   },
   "outputs": [
    {
     "name": "stdout",
     "output_type": "stream",
     "text": [
      "Slope:  [[ 0.08289305]] Intercept:  [ 0.26188985]\n"
     ]
    }
   ],
   "source": [
    "print \"Slope: \", lr.coef_, \"Intercept: \", lr.intercept_"
   ]
  },
  {
   "cell_type": "markdown",
   "metadata": {},
   "source": [
    "**Note**: The coefficients and intercepts calculated in any linear model will be based on the LinearRegression.fit() method. If x_tr and y_tr have been passed to this method, then the coefficients will be based on these values."
   ]
  },
  {
   "cell_type": "code",
   "execution_count": 24,
   "metadata": {
    "collapsed": false
   },
   "outputs": [
    {
     "name": "stdout",
     "output_type": "stream",
     "text": [
      "Another way of describing the linear model we built is: y = 0.083 x + 0.262\n"
     ]
    }
   ],
   "source": [
    "print \"Another way of describing the linear model we built is: y = %1.3f x + %1.3f\" %(lr.coef_, lr.intercept_)"
   ]
  },
  {
   "cell_type": "markdown",
   "metadata": {},
   "source": [
    "### Residuals\n",
    "\n",
    "* Residuals for any are defined as $y_i - y_m$ where $y_m$ is the model's estimate based on a particular input $x_i$. \n",
    "* Larger mean residuals imply greater standard deviation (remember the standard deviation formula).\n",
    "\n",
    "#### Residuals and the cost function of regression models\n",
    "\n",
    "In all regression models, the best fit line is found by minimizing a cost function. The cost function is directly related to the mean of the residuals. When the mean value of the residuals is high, cost function is high, and there is room for further minimization / optimization.\n",
    "\n",
    "Observe large residuals for both the train and test data with respect to the model (red line). This means that we could either collect more data, or try a model with higher order, to simulate more of the variability.\n"
   ]
  },
  {
   "cell_type": "markdown",
   "metadata": {},
   "source": [
    "## Regression, Correlation and Causation\n",
    "\n",
    "* Always bear in mind that correlation between two variables doesn't imply that one could be the cause of the other.\n",
    "* In cases where the physics of a problem clearly indicate that there is a causal relationship, there is grounds to assume causation from correlation\n",
    "* Otherwise, we are only evaluating whether two variables can be correlated with each other.\n",
    "\n",
    "\n",
    "## Examples of false correlation:\n",
    "![Suprious Correlation \\#1](chart.jpeg)\n",
    "![Suprious Correlation \\#2](chart2.jpeg)\n"
   ]
  }
 ],
 "metadata": {
  "kernelspec": {
   "display_name": "Python 2",
   "language": "python",
   "name": "python2"
  },
  "language_info": {
   "codemirror_mode": {
    "name": "ipython",
    "version": 2
   },
   "file_extension": ".py",
   "mimetype": "text/x-python",
   "name": "python",
   "nbconvert_exporter": "python",
   "pygments_lexer": "ipython2",
   "version": "2.7.11"
  }
 },
 "nbformat": 4,
 "nbformat_minor": 0
}
